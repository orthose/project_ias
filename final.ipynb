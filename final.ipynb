{
 "cells": [
  {
   "cell_type": "markdown",
   "id": "enormous-butter",
   "metadata": {},
   "source": [
    "# Notebook Final"
   ]
  },
  {
   "cell_type": "code",
   "execution_count": null,
   "id": "accessory-discount",
   "metadata": {},
   "outputs": [],
   "source": []
  },
  {
   "cell_type": "markdown",
   "id": "mature-tours",
   "metadata": {},
   "source": [
    "# Visualisation"
   ]
  },
  {
   "cell_type": "code",
   "execution_count": null,
   "id": "liquid-lewis",
   "metadata": {},
   "outputs": [],
   "source": []
  },
  {
   "cell_type": "markdown",
   "id": "graphic-round",
   "metadata": {},
   "source": [
    "# Pré-Processing"
   ]
  },
  {
   "cell_type": "code",
   "execution_count": null,
   "id": "ordinary-estate",
   "metadata": {},
   "outputs": [],
   "source": []
  },
  {
   "cell_type": "markdown",
   "id": "acquired-circumstances",
   "metadata": {},
   "source": [
    "# Entraînement du Modèle"
   ]
  },
  {
   "cell_type": "code",
   "execution_count": null,
   "id": "blond-startup",
   "metadata": {},
   "outputs": [],
   "source": []
  },
  {
   "cell_type": "markdown",
   "id": "major-basic",
   "metadata": {},
   "source": [
    "# Recherche Hyperparamètres"
   ]
  },
  {
   "cell_type": "code",
   "execution_count": null,
   "id": "recognized-processing",
   "metadata": {},
   "outputs": [],
   "source": []
  },
  {
   "cell_type": "markdown",
   "id": "fancy-amendment",
   "metadata": {},
   "source": [
    "# Calcul du Score Final"
   ]
  },
  {
   "cell_type": "code",
   "execution_count": null,
   "id": "center-synthesis",
   "metadata": {},
   "outputs": [],
   "source": []
  }
 ],
 "metadata": {
  "kernelspec": {
   "display_name": "Python 3",
   "language": "python",
   "name": "python3"
  },
  "language_info": {
   "codemirror_mode": {
    "name": "ipython",
    "version": 3
   },
   "file_extension": ".py",
   "mimetype": "text/x-python",
   "name": "python",
   "nbconvert_exporter": "python",
   "pygments_lexer": "ipython3",
   "version": "3.8.5"
  }
 },
 "nbformat": 4,
 "nbformat_minor": 5
}
